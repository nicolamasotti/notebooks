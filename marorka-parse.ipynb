{
 "cells": [
  {
   "cell_type": "code",
   "execution_count": null,
   "metadata": {},
   "outputs": [],
   "source": [
    "from xml.etree import ElementTree as ET\n",
    "import requests\n",
    "import xml.dom.minidom\n",
    "from os.path import join, isfile\n",
    "from csv import DictReader\n",
    "from datetime import datetime, date\n",
    "from optparse import OptionParser\n",
    "import pandas as pd\n",
    "import matplotlib as mpl\n",
    "from matplotlib import pyplot as plt\n",
    "import numpy as np\n",
    "import cartopy\n",
    "import cartopy.crs as ccrs"
   ]
  },
  {
   "cell_type": "code",
   "execution_count": null,
   "metadata": {},
   "outputs": [],
   "source": [
    "%matplotlib inline"
   ]
  },
  {
   "cell_type": "code",
   "execution_count": null,
   "metadata": {},
   "outputs": [],
   "source": [
    "dates = pd.Series(np.arange('2012-01', '2017-11', np.timedelta64(1, 'W'), dtype='datetime64[W]'))\n",
    "dates = dates.values.astype('datetime64[D]')\n",
    "dates[:5]"
   ]
  },
  {
   "cell_type": "code",
   "execution_count": null,
   "metadata": {},
   "outputs": [],
   "source": [
    "input_dir = 'in/Laurin/ShipPivots/All'\n",
    "filenames = []\n",
    "for i in range(len(dates) -1):\n",
    "    filename = input_dir + '/data_' + str(dates[i]) + '.xml'\n",
    "    filenames.append(filename)\n",
    "filenames[:5]"
   ]
  },
  {
   "cell_type": "code",
   "execution_count": null,
   "metadata": {},
   "outputs": [],
   "source": [
    "namespaces = { 'default' : 'http://www.w3.org/2005/Atom',\n",
    "               'd': 'http://schemas.microsoft.com/ado/2007/08/dataservices',\n",
    "               'm': 'http://schemas.microsoft.com/ado/2007/08/dataservices/metadata'}\n",
    "\n",
    "data = pd.DataFrame()\n",
    "\n",
    "for filename in filenames:\n",
    "    \n",
    "    try:\n",
    "        tree = ET.parse(filename)\n",
    "        root = tree.getroot()\n",
    "        records = []\n",
    "\n",
    "        for i, entry in enumerate(root.findall('.//default:entry', namespaces)):\n",
    "            record = {}\n",
    "            for properties in entry.findall('.//m:properties', namespaces):\n",
    "                record['Id'] = properties.find('.//d:Id', namespaces).text\n",
    "                record['ShipName'] = properties.find('.//d:ShipName', namespaces).text\n",
    "                record['CompanyName'] = properties.find('.//d:CompanyName', namespaces).text\n",
    "                record['DateTime'] = properties.find('.//d:DateTime', namespaces).text\n",
    "                record['State'] = properties.find('.//d:State', namespaces).text\n",
    "                record['Lat'] = properties.find('.//d:Latitude', namespaces).text\n",
    "                record['Lon'] = properties.find('.//d:Longitude', namespaces).text\n",
    "                record['VoyageIdInternal'] = properties.find('.//d:VoyageIdInternal', namespaces).text\n",
    "                record['VoyageId'] = properties.find('.//d:VoyageId', namespaces).text\n",
    "\n",
    "                records.append(record)\n",
    "        \n",
    "        if records:\n",
    "            df = pd.DataFrame(records)\n",
    "            df.Lat = df.Lat.astype(np.float64)\n",
    "            df.Lon = df.Lon.astype(np.float64)\n",
    "            df.DateTime = df.DateTime.astype(np.datetime64)\n",
    "            data = data.append(df, ignore_index=True)\n",
    "    except FileNotFoundError:\n",
    "        pass\n",
    "\n",
    "data.dropna(axis=0, how='any', subset=['VoyageIdInternal','Lat','Lon'], inplace=True)\n",
    "data.reset_index(drop=True, inplace=True)\n",
    "data.VoyageIdInternal = data.VoyageIdInternal.astype(np.int64)\n",
    "data[:5]"
   ]
  },
  {
   "cell_type": "code",
   "execution_count": null,
   "metadata": {},
   "outputs": [],
   "source": [
    "def create_canvas():\n",
    "    fig = plt.figure(figsize=[60,20])\n",
    "    ax = plt.axes(projection=ccrs.PlateCarree())\n",
    "    ax.add_feature(\n",
    "        cartopy.feature.LAND,\n",
    "        zorder=100, \n",
    "        edgecolor=[0.2,0.2,0.2], \n",
    "        facecolor=[0.5,0.5,0.5])\n",
    "    return fig,ax"
   ]
  },
  {
   "cell_type": "code",
   "execution_count": null,
   "metadata": {},
   "outputs": [],
   "source": [
    "def df_line_plot(data):  \n",
    "    fig, ax = create_canvas()\n",
    "    data.plot('Lon','Lat', ax=ax, legend=None)\n",
    "    ax.set_global()"
   ]
  },
  {
   "cell_type": "code",
   "execution_count": null,
   "metadata": {},
   "outputs": [],
   "source": [
    "def df_scatter_plot(data):  \n",
    "    fig, ax = create_canvas()\n",
    "    data.plot.scatter('Lon','Lat', ax=ax, legend=None)\n",
    "    ax.set_global()"
   ]
  },
  {
   "cell_type": "code",
   "execution_count": null,
   "metadata": {},
   "outputs": [],
   "source": [
    "def df_local_plot(data):  \n",
    "    fig, ax = create_canvas()\n",
    "    data.plot('Lon','Lat', ax=ax, legend=None)"
   ]
  },
  {
   "cell_type": "code",
   "execution_count": null,
   "metadata": {},
   "outputs": [],
   "source": [
    "def print_full(x):\n",
    "    pd.set_option('display.max_rows', len(x))\n",
    "    print(x)\n",
    "    pd.reset_option('display.max_rows')"
   ]
  },
  {
   "cell_type": "code",
   "execution_count": null,
   "metadata": {},
   "outputs": [],
   "source": [
    "def compute_deltas(data):   \n",
    "    data['DeltaLat'] = data['Lat'].shift(-1) - data['Lat']\n",
    "    data['DeltaLon'] = data['Lon'].shift(-1) - data['Lon']\n",
    "    return data"
   ]
  },
  {
   "cell_type": "code",
   "execution_count": null,
   "metadata": {},
   "outputs": [],
   "source": [
    "def get_tracks(data, thresh):\n",
    "    mask = np.absolute(data.DeltaLon) > thresh\n",
    "    mask = np.absolute(mask.shift(+1) + mask)\n",
    "    data['Track'] = mask.cumsum()   \n",
    "    return data"
   ]
  },
  {
   "cell_type": "code",
   "execution_count": null,
   "metadata": {},
   "outputs": [],
   "source": [
    "def drop_short_tracks(data, thresh):\n",
    "    return data.groupby('Track').filter(lambda x: x['DateTime'].count() > thresh)"
   ]
  },
  {
   "cell_type": "code",
   "execution_count": null,
   "metadata": {},
   "outputs": [],
   "source": [
    "grouped = data.groupby(['ShipName','VoyageIdInternal','DateTime'])\n",
    "_data = compute_deltas(grouped.mean().reset_index())\n",
    "_data = get_tracks(_data, 5)\n",
    "_data = drop_short_tracks(_data, 1000)\n",
    "_data.reset_index(drop=True, inplace=True)\n",
    "_data[:5]"
   ]
  },
  {
   "cell_type": "code",
   "execution_count": null,
   "metadata": {},
   "outputs": [],
   "source": [
    "_data.VoyageIdInternal.nunique()"
   ]
  },
  {
   "cell_type": "code",
   "execution_count": null,
   "metadata": {},
   "outputs": [],
   "source": [
    "data.VoyageIdInternal.nunique()"
   ]
  },
  {
   "cell_type": "code",
   "execution_count": null,
   "metadata": {},
   "outputs": [],
   "source": [
    "df_line_plot(_data.groupby(['ShipName','Track','VoyageIdInternal']))"
   ]
  },
  {
   "cell_type": "code",
   "execution_count": null,
   "metadata": {},
   "outputs": [],
   "source": [
    "ships = list(data.groupby(['ShipName']).groups.keys())\n",
    "ships"
   ]
  }
 ],
 "metadata": {
  "kernelspec": {
   "display_name": "Python 3",
   "language": "python",
   "name": "python3"
  },
  "language_info": {
   "codemirror_mode": {
    "name": "ipython",
    "version": 3
   },
   "file_extension": ".py",
   "mimetype": "text/x-python",
   "name": "python",
   "nbconvert_exporter": "python",
   "pygments_lexer": "ipython3",
   "version": "3.6.0"
  }
 },
 "nbformat": 4,
 "nbformat_minor": 1
}
