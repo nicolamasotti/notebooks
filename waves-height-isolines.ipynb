{
 "cells": [
  {
   "cell_type": "code",
   "execution_count": null,
   "metadata": {},
   "outputs": [],
   "source": [
    "import cftools as cft\n",
    "import xarray as xr\n",
    "import numpy as np\n",
    "import cftools.matplotlib as mpl\n",
    "from cftools.matplotlib import plt\n",
    "import cartopy\n",
    "import cartopy.crs as ccrs\n",
    "from shapely.geometry import mapping, Polygon\n",
    "import fiona\n",
    "import os"
   ]
  },
  {
   "cell_type": "code",
   "execution_count": null,
   "metadata": {},
   "outputs": [],
   "source": [
    "%load_ext autoreload\n",
    "%autoreload 2\n",
    "%matplotlib inline"
   ]
  },
  {
   "cell_type": "code",
   "execution_count": null,
   "metadata": {},
   "outputs": [],
   "source": [
    "DATA = 'in/era_interim_waves_height_1979_2017.nc'"
   ]
  },
  {
   "cell_type": "code",
   "execution_count": null,
   "metadata": {},
   "outputs": [],
   "source": [
    "waves_height = cft.io.open_dataarray(DATA)"
   ]
  },
  {
   "cell_type": "code",
   "execution_count": null,
   "metadata": {},
   "outputs": [],
   "source": [
    "mask = waves_height > 3.6576"
   ]
  },
  {
   "cell_type": "code",
   "execution_count": null,
   "metadata": {},
   "outputs": [],
   "source": [
    "mask_grouped = mask.groupby('time.month')"
   ]
  },
  {
   "cell_type": "code",
   "execution_count": null,
   "metadata": {},
   "outputs": [],
   "source": [
    "def plot_PlateCarree(data, lev=np.arange(30,80,20), cmap='red'):\n",
    "    plt.figure(figsize=[30,10])\n",
    "    \n",
    "    ax = plt.axes(projection=ccrs.PlateCarree())\n",
    "    \n",
    "    ax.add_feature(\n",
    "        cartopy.feature.LAND,\n",
    "        zorder=100, \n",
    "        edgecolor=[0.2,0.2,0.2], \n",
    "        facecolor=[0.5,0.5,0.5])\n",
    "    \n",
    "    ax.coastlines()\n",
    "          \n",
    "    #data.plot.imshow(interpolation='bilinear', cmap='coolwarm')\n",
    "    cs = data.plot.contour(levels = lev, transform=ccrs.PlateCarree(), cmap=cmap, linewidths=1) # cs stand for 'contour set'\n",
    "    plt.clabel(cs, inline=False, fontsize=10)\n",
    "    plt.title('Percentage of waves with height > 12 ft')\n",
    "    \n",
    "    return cs\n",
    "    \n",
    "    # Alternative plot method\n",
    "    # pl = plt.contourf(data.lon, data.lat, data, lev, transform=ccrs.PlateCarree(), cmap=cmap)\n",
    "    # cbar = plt.colorbar(pl)\n",
    "    \n",
    "    \n",
    "for month_index in range(1,2):\n",
    "    samples = len(mask_grouped.groups[month_index])\n",
    "    over_thresh = mask_grouped.reduce(np.count_nonzero, dim='time').sel(month=month_index)\n",
    "    over_thresh_percentage = over_thresh/samples*100\n",
    "    cs = plot_PlateCarree(over_thresh_percentage)"
   ]
  },
  {
   "cell_type": "code",
   "execution_count": null,
   "metadata": {},
   "outputs": [],
   "source": [
    "isolines = [] # a list of lists containing tuples\n",
    "for contour in cs.collections:\n",
    "    for path in contour.get_paths():\n",
    "        isolines.append(list(map(tuple, path.vertices)))\n",
    "\n",
    "polygons = [] # a list of shapely Polygons objects\n",
    "for path in isolines:\n",
    "    polygons.append(Polygon(path))"
   ]
  },
  {
   "cell_type": "code",
   "execution_count": null,
   "metadata": {},
   "outputs": [],
   "source": [
    "# create output directory for shapefiles\n",
    "path = os.path.dirname(os.path.abspath('__file__'))\n",
    "path = os.path.abspath(os.path.join(path,'../out/shp'))\n",
    "\n",
    "if not os.path.exists(path):\n",
    "   os.makedirs(path)"
   ]
  },
  {
   "cell_type": "code",
   "execution_count": null,
   "metadata": {},
   "outputs": [],
   "source": [
    "# Define a polygon feature geometry with one attribute\n",
    "schema = {\n",
    "    'geometry': 'Polygon',\n",
    "    'properties': {'id': 'int'},\n",
    "}\n",
    "\n",
    "# Write a new Shapefile\n",
    "with fiona.open('../out/shp/waves-height-isolines.shp', 'w', 'ESRI Shapefile', schema) as shapefile:\n",
    "    for poly in polygons:\n",
    "        shapefile.write({\n",
    "            'geometry': mapping(poly),\n",
    "            'properties': {'id': 123},\n",
    "        })"
   ]
  }
 ],
 "metadata": {
  "kernelspec": {
   "display_name": "Python 3",
   "language": "python",
   "name": "python3"
  },
  "language_info": {
   "codemirror_mode": {
    "name": "ipython",
    "version": 3
   },
   "file_extension": ".py",
   "mimetype": "text/x-python",
   "name": "python",
   "nbconvert_exporter": "python",
   "pygments_lexer": "ipython3",
   "version": "3.6.0"
  }
 },
 "nbformat": 4,
 "nbformat_minor": 2
}
