{
 "cells": [
  {
   "cell_type": "code",
   "execution_count": 49,
   "id": "563a73d4",
   "metadata": {},
   "outputs": [],
   "source": [
    "import itertools\n",
    "import copy\n",
    "import math"
   ]
  },
  {
   "cell_type": "code",
   "execution_count": 9,
   "id": "75146f20",
   "metadata": {},
   "outputs": [],
   "source": [
    "form = {\n",
    "    \"level\": {\"500\", \"850\"},\n",
    "    \"time\": {\"12:00\", \"00:00\"},\n",
    "    \"param\": {\"Z\", \"T\"},\n",
    "    \"stat\": {\"daily_mean\", \"hourly\"},\n",
    "    \"number\": {\"1\", \"2\", \"3\"},\n",
    "    \"model\": {\"a\", \"b\", \"c\"}\n",
    "}\n",
    "\n",
    "selection = {\n",
    "    \"param\": {\"Z\", \"T\"},\n",
    "    \"level\": {\"500\", \"850\"},\n",
    "    \"stat\": {\"daily_mean\", \"hourly\"},\n",
    "    \"time\": {\"12:00\", \"00:00\"},\n",
    "    \"number\": {\"1\", \"2\"},\n",
    "    \"model\": {\"a\"}\n",
    "}\n",
    "\n",
    "\n",
    "constraints = [\n",
    "        {\"level\": {\"500\"}, \"param\": {\"Z\", \"T\"}, \"time\": {\"12:00\", \"00:00\"}, \"stat\": {\"hourly\"}},\n",
    "        {\"level\": {\"850\"}, \"param\": {\"T\"}, \"time\": {\"12:00\"}, \"stat\": {\"hourly\"}},\n",
    "        {\"level\": {\"500\"}, \"param\": {\"Z\", \"T\"}, \"stat\": {\"daily_mean\"}},\n",
    "        {\"level\": {\"850\"}, \"param\": {\"T\"}, \"stat\": {\"daily_mean\"}},\n",
    "    ]\n",
    "# some missing combinations:\n",
    "# - every combination that includes \"850\" and \"Z\"\n",
    "# - time \"00:00\" is not available for param \"T\" and level \"850\"\n"
   ]
  },
  {
   "cell_type": "code",
   "execution_count": null,
   "id": "be446ec3",
   "metadata": {},
   "outputs": [],
   "source": []
  },
  {
   "cell_type": "code",
   "execution_count": 10,
   "id": "0dbd70fc",
   "metadata": {},
   "outputs": [],
   "source": [
    "def get_always_valid_params(form, constraints):\n",
    "    result={}\n",
    "    for field_name, field_values in form.items():\n",
    "        if field_name not in get_keys(constraints):\n",
    "            result.setdefault(field_name, field_values)\n",
    "    return result"
   ]
  },
  {
   "cell_type": "code",
   "execution_count": 11,
   "id": "3c5e52c7",
   "metadata": {},
   "outputs": [],
   "source": [
    "def get_keys(constraints):\n",
    "    keys = set()\n",
    "    for constraint in constraints:\n",
    "        keys |= set(constraint.keys())\n",
    "    return keys"
   ]
  },
  {
   "cell_type": "code",
   "execution_count": 43,
   "id": "1d30e1dc",
   "metadata": {},
   "outputs": [
    {
     "data": {
      "text/plain": [
       "dict_values([{'1', '3', '2'}, {'b', 'a', 'c'}])"
      ]
     },
     "execution_count": 43,
     "metadata": {},
     "output_type": "execute_result"
    }
   ],
   "source": [
    "always_valid = get_always_valid_params(form, constraints)\n",
    "always_valid"
   ]
  },
  {
   "cell_type": "code",
   "execution_count": 52,
   "id": "532cf577",
   "metadata": {},
   "outputs": [
    {
     "data": {
      "text/plain": [
       "9"
      ]
     },
     "execution_count": 52,
     "metadata": {},
     "output_type": "execute_result"
    }
   ],
   "source": [
    "math.prod(map(len, always_valid.values()))"
   ]
  },
  {
   "cell_type": "code",
   "execution_count": 17,
   "id": "f0111525",
   "metadata": {},
   "outputs": [
    {
     "data": {
      "text/plain": [
       "{'param': {'T', 'Z'},\n",
       " 'level': {'500', '850'},\n",
       " 'stat': {'daily_mean', 'hourly'},\n",
       " 'time': {'00:00', '12:00'}}"
      ]
     },
     "execution_count": 17,
     "metadata": {},
     "output_type": "execute_result"
    }
   ],
   "source": [
    "sub_selection = {k:v for k,v in selection.items() if k not in always_valid}\n",
    "sub_selection"
   ]
  },
  {
   "cell_type": "code",
   "execution_count": 20,
   "id": "24823e85",
   "metadata": {
    "scrolled": true
   },
   "outputs": [
    {
     "data": {
      "text/plain": [
       "[{'param': 'T', 'level': '500', 'stat': 'daily_mean', 'time': '12:00'},\n",
       " {'param': 'T', 'level': '500', 'stat': 'daily_mean', 'time': '00:00'},\n",
       " {'param': 'T', 'level': '500', 'stat': 'hourly', 'time': '12:00'},\n",
       " {'param': 'T', 'level': '500', 'stat': 'hourly', 'time': '00:00'},\n",
       " {'param': 'T', 'level': '850', 'stat': 'daily_mean', 'time': '12:00'},\n",
       " {'param': 'T', 'level': '850', 'stat': 'daily_mean', 'time': '00:00'},\n",
       " {'param': 'T', 'level': '850', 'stat': 'hourly', 'time': '12:00'},\n",
       " {'param': 'T', 'level': '850', 'stat': 'hourly', 'time': '00:00'},\n",
       " {'param': 'Z', 'level': '500', 'stat': 'daily_mean', 'time': '12:00'},\n",
       " {'param': 'Z', 'level': '500', 'stat': 'daily_mean', 'time': '00:00'},\n",
       " {'param': 'Z', 'level': '500', 'stat': 'hourly', 'time': '12:00'},\n",
       " {'param': 'Z', 'level': '500', 'stat': 'hourly', 'time': '00:00'},\n",
       " {'param': 'Z', 'level': '850', 'stat': 'daily_mean', 'time': '12:00'},\n",
       " {'param': 'Z', 'level': '850', 'stat': 'daily_mean', 'time': '00:00'},\n",
       " {'param': 'Z', 'level': '850', 'stat': 'hourly', 'time': '12:00'},\n",
       " {'param': 'Z', 'level': '850', 'stat': 'hourly', 'time': '00:00'}]"
      ]
     },
     "execution_count": 20,
     "metadata": {},
     "output_type": "execute_result"
    }
   ],
   "source": [
    "def compute_layers(d):\n",
    "    keys, values = zip(*d.items())\n",
    "    return [dict(zip(keys, v)) for v in itertools.product(*values)]\n",
    "\n",
    "layers = compute_layers(sub_selection)\n",
    "layers"
   ]
  },
  {
   "cell_type": "code",
   "execution_count": 56,
   "id": "69e1f23a",
   "metadata": {},
   "outputs": [],
   "source": [
    "def check_layer_avalability(layer, constraints):\n",
    "    print(layer)\n",
    "    for constraint in constraints:\n",
    "        ok = True;\n",
    "        for key, value in layer.items():\n",
    "            if key not in constraint.keys():\n",
    "                diff = set(layer) - set(constraint.keys())\n",
    "                if diff:\n",
    "                    for key in diff:\n",
    "                        layer.pop(key)\n",
    "                        if check_layer_avalability(layer, constraints):\n",
    "                            #print(True)\n",
    "                            return True\n",
    "                ok = False;\n",
    "                break\n",
    "            elif value not in constraint[key]:\n",
    "                ok = False;\n",
    "                break\n",
    "        if ok:\n",
    "            print(True)\n",
    "            return True\n",
    "    print(ok)\n",
    "    return ok"
   ]
  },
  {
   "cell_type": "code",
   "execution_count": 57,
   "id": "be479794",
   "metadata": {},
   "outputs": [],
   "source": [
    "def count_available(layers, constaints, always_valid):\n",
    "    layers = copy.deepcopy(layers)\n",
    "    count = 0\n",
    "    for layer in layers:\n",
    "        if check_layer_avalability(layer, constaints):\n",
    "            count += 1\n",
    "    return count * math.prod(map(len, always_valid.values()))\n",
    "    "
   ]
  },
  {
   "cell_type": "code",
   "execution_count": 58,
   "id": "daaa3567",
   "metadata": {},
   "outputs": [
    {
     "name": "stdout",
     "output_type": "stream",
     "text": [
      "{'param': 'T', 'level': '500', 'stat': 'daily_mean', 'time': '12:00'}\n",
      "{'param': 'T', 'level': '500', 'stat': 'daily_mean'}\n",
      "True\n",
      "{'param': 'T', 'level': '500', 'stat': 'daily_mean', 'time': '00:00'}\n",
      "{'param': 'T', 'level': '500', 'stat': 'daily_mean'}\n",
      "True\n",
      "{'param': 'T', 'level': '500', 'stat': 'hourly', 'time': '12:00'}\n",
      "True\n",
      "{'param': 'T', 'level': '500', 'stat': 'hourly', 'time': '00:00'}\n",
      "True\n",
      "{'param': 'T', 'level': '850', 'stat': 'daily_mean', 'time': '12:00'}\n",
      "{'param': 'T', 'level': '850', 'stat': 'daily_mean'}\n",
      "True\n",
      "{'param': 'T', 'level': '850', 'stat': 'daily_mean', 'time': '00:00'}\n",
      "{'param': 'T', 'level': '850', 'stat': 'daily_mean'}\n",
      "True\n",
      "{'param': 'T', 'level': '850', 'stat': 'hourly', 'time': '12:00'}\n",
      "True\n",
      "{'param': 'T', 'level': '850', 'stat': 'hourly', 'time': '00:00'}\n",
      "False\n",
      "{'param': 'Z', 'level': '500', 'stat': 'daily_mean', 'time': '12:00'}\n",
      "{'param': 'Z', 'level': '500', 'stat': 'daily_mean'}\n",
      "True\n",
      "{'param': 'Z', 'level': '500', 'stat': 'daily_mean', 'time': '00:00'}\n",
      "{'param': 'Z', 'level': '500', 'stat': 'daily_mean'}\n",
      "True\n",
      "{'param': 'Z', 'level': '500', 'stat': 'hourly', 'time': '12:00'}\n",
      "True\n",
      "{'param': 'Z', 'level': '500', 'stat': 'hourly', 'time': '00:00'}\n",
      "True\n",
      "{'param': 'Z', 'level': '850', 'stat': 'daily_mean', 'time': '12:00'}\n",
      "False\n",
      "{'param': 'Z', 'level': '850', 'stat': 'daily_mean', 'time': '00:00'}\n",
      "False\n",
      "{'param': 'Z', 'level': '850', 'stat': 'hourly', 'time': '12:00'}\n",
      "False\n",
      "{'param': 'Z', 'level': '850', 'stat': 'hourly', 'time': '00:00'}\n",
      "False\n"
     ]
    },
    {
     "data": {
      "text/plain": [
       "99"
      ]
     },
     "execution_count": 58,
     "metadata": {},
     "output_type": "execute_result"
    }
   ],
   "source": [
    "count_available(layers, constraints, always_valid)"
   ]
  },
  {
   "cell_type": "code",
   "execution_count": null,
   "id": "e92ee3a7",
   "metadata": {},
   "outputs": [],
   "source": []
  }
 ],
 "metadata": {
  "kernelspec": {
   "display_name": "Python 3 (ipykernel)",
   "language": "python",
   "name": "python3"
  },
  "language_info": {
   "codemirror_mode": {
    "name": "ipython",
    "version": 3
   },
   "file_extension": ".py",
   "mimetype": "text/x-python",
   "name": "python",
   "nbconvert_exporter": "python",
   "pygments_lexer": "ipython3",
   "version": "3.10.6"
  }
 },
 "nbformat": 4,
 "nbformat_minor": 5
}
