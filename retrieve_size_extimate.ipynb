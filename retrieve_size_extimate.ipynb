{
 "cells": [
  {
   "cell_type": "code",
   "execution_count": 1,
   "id": "563a73d4",
   "metadata": {},
   "outputs": [],
   "source": [
    "import itertools\n",
    "import copy\n",
    "import math"
   ]
  },
  {
   "cell_type": "code",
   "execution_count": 200,
   "id": "75146f20",
   "metadata": {},
   "outputs": [],
   "source": [
    "form = {\n",
    "    \"level\": {\"500\", \"850\"},\n",
    "    \"time\": {\"12:00\", \"00:00\"},\n",
    "    \"param\": {\"Z\", \"T\"},\n",
    "    \"stat\": {\"daily_mean\", \"hourly\"},\n",
    "    \"number\": {\"1\", \"2\", \"3\"},\n",
    "    \"model\": {\"a\", \"b\", \"c\"}\n",
    "}\n",
    "\n",
    "selection = {\n",
    "    \"param\": {\"Z\", \"T\"},\n",
    "    \"level\": {\"500\", \"850\"},\n",
    "    \"stat\": {\"daily_mean\", \"hourly\"},\n",
    "    \"time\": {\"12:00\", \"00:00\"},\n",
    "    \"number\": {\"1\", \"2\"},\n",
    "    \"model\": {\"a\", \"b\"}\n",
    "}\n",
    "\n",
    "\n",
    "constraints = [\n",
    "        {\"level\": {\"500\"}, \"param\": {\"Z\", \"T\"}, \"time\": {\"12:00\", \"00:00\"}, \"stat\": {\"hourly\"}},\n",
    "        {\"level\": {\"850\"}, \"param\": {\"T\"}, \"time\": {\"12:00\"}, \"stat\": {\"hourly\"}},\n",
    "        {\"level\": {\"500\"}, \"param\": {\"Z\", \"T\"}, \"stat\": {\"daily_mean\"}},\n",
    "        {\"level\": {\"850\"}, \"param\": {\"T\"}, \"stat\": {\"daily_mean\"}},\n",
    "    ]\n",
    "# some missing combinations:\n",
    "# - every combination that includes \"850\" and \"Z\"\n",
    "# - time \"00:00\" is not available for param \"T\" and level \"850\"\n"
   ]
  },
  {
   "cell_type": "code",
   "execution_count": 201,
   "id": "ccb5876d",
   "metadata": {},
   "outputs": [],
   "source": [
    "def get_always_valid_params(form, constraints):\n",
    "    result={}\n",
    "    for field_name, field_values in form.items():\n",
    "        if field_name not in get_keys(constraints):\n",
    "            result.setdefault(field_name, field_values)\n",
    "    return result\n",
    "\n",
    "def get_keys(constraints):\n",
    "    keys = set()\n",
    "    for constraint in constraints:\n",
    "        keys |= set(constraint.keys())\n",
    "    return keys"
   ]
  },
  {
   "cell_type": "code",
   "execution_count": 202,
   "id": "24823e85",
   "metadata": {
    "scrolled": true
   },
   "outputs": [],
   "source": [
    "def compute_combinations(d):\n",
    "    if not d:\n",
    "        return []\n",
    "    keys, values = zip(*d.items())\n",
    "    return [dict(zip(keys, v)) for v in itertools.product(*values)]\n",
    "\n",
    "def test_compute_combinations():\n",
    "    assert compute_combinations(dict()) == []\n",
    "    \n",
    "    result = compute_combinations({'param1': {'1','2'}})\n",
    "    expected = [{'param1': '2'}, {'param1': '1'}]\n",
    "    assert (len(result) == len(expected) and all(combination in expected for combination in result))\n",
    "\n",
    "    result = compute_combinations({'param1': {'1','2'}, 'param2':{'a', 'b'}})\n",
    "    expected = [\n",
    "        {'param1': '1', 'param2': 'b'},\n",
    "        {'param1': '1', 'param2': 'a'},\n",
    "        {'param1': '2', 'param2': 'b'},\n",
    "        {'param1': '2', 'param2': 'a'}\n",
    "    ]\n",
    "    assert (len(result) == len(expected) and all(combination in expected for combination in result))\n",
    "    \n",
    "test_compute_combinations()"
   ]
  },
  {
   "cell_type": "markdown",
   "id": "04e5a06a",
   "metadata": {},
   "source": [
    "def any_layer(combination, constraints):\n",
    "    print(combination)\n",
    "    for constraint in constraints:\n",
    "        ok = True;\n",
    "        for key, value in combination.items():\n",
    "            if key not in constraint.keys():\n",
    "                diff = set(combination) - set(constraint.keys())\n",
    "                if diff:\n",
    "                    for key in diff:\n",
    "                        combination.pop(key)\n",
    "                        if any_layer(combination, constraints):\n",
    "                            return True\n",
    "                ok = False;\n",
    "                break\n",
    "            elif value not in constraint[key]:\n",
    "                ok = False;\n",
    "                break\n",
    "        if ok:\n",
    "            print(True)\n",
    "            return True\n",
    "    print(ok)\n",
    "    return ok"
   ]
  },
  {
   "cell_type": "code",
   "execution_count": 203,
   "id": "0ca5fc73",
   "metadata": {},
   "outputs": [
    {
     "data": {
      "text/plain": [
       "'\\n#constraint = {\"type\": {\\'historical\\'}, \\'stat\\': {\\'daily_mean\\'}}\\nconstraint = {\"type\": {\\'historical\\'}, \\'time\\': {\\'00:00\\'}, \\'stat\\': {\\'hourly\\'}}\\ncombination = {\"type\": \\'historical\\', \\'ensamble\\': \\'1\\', \\'time\\': \\'00:00\\', \\'stat\\': \\'daily_mean\\'}\\n\\nget_valid(combination,constraint)\\n'"
      ]
     },
     "execution_count": 203,
     "metadata": {},
     "output_type": "execute_result"
    }
   ],
   "source": [
    "def get_possible_layer_if_any(combination, constraint):\n",
    "    for key, value in combination.copy().items():\n",
    "        if key not in constraint.keys():\n",
    "            diff = set(combination) - set(constraint.keys())\n",
    "            if diff:\n",
    "                for key in diff:\n",
    "                    combination.pop(key)\n",
    "                    return get_valid(combination, constraint)\n",
    "        elif value not in constraint[key]:\n",
    "            return {}\n",
    "    return combination\n",
    "'''\n",
    "#constraint = {\"type\": {'historical'}, 'stat': {'daily_mean'}}\n",
    "constraint = {\"type\": {'historical'}, 'time': {'00:00'}, 'stat': {'hourly'}}\n",
    "combination = {\"type\": 'historical', 'ensamble': '1', 'time': '00:00', 'stat': 'daily_mean'}\n",
    "\n",
    "get_valid(combination,constraint)\n",
    "'''"
   ]
  },
  {
   "cell_type": "code",
   "execution_count": 231,
   "id": "aa9ad450",
   "metadata": {},
   "outputs": [
    {
     "data": {
      "text/plain": [
       "'\\ncombination = {\"type\": \\'historical\\', \\'ensamble\\': \\'1\\', \\'time\\': \\'00:00\\', \\'stat\\': \\'daily_mean\\'}\\ncombination = {\"type\": \\'historical\\', \\'ensamble\\': \\'2\\', \\'time\\': \\'00:00\\', \\'stat\\': \\'daily_mean\\'}\\n\\n\\nconstraints = [\\n    {\"type\": {\\'projection\\'}, \\'ensamble\\': {\\'1\\'}, \\'time\\': {\\'00:00\\'}, \\'stat\\': {\\'hourly\\'}},\\n    {\"type\": {\\'projection\\'}, \\'ensamble\\': {\\'1\\'}, \\'stat\\': {\\'daily_mean\\'}},\\n    {\"type\": {\\'historical\\'}, \\'time\\': {\\'00:00\\'}, \\'stat\\': {\\'hourly\\'}},\\n    {\"type\": {\\'historical\\'}, \\'stat\\': {\\'daily_mean\\'}}\\n]\\n\\ncheck_combination(combination, constraints)\\n'"
      ]
     },
     "execution_count": 231,
     "metadata": {},
     "output_type": "execute_result"
    }
   ],
   "source": [
    "def get_possible_layers_for_combination(combination, constraints):\n",
    "    layers = []\n",
    "    for constraint in constraints:\n",
    "        layer = get_possible_layer_if_any(combination, constraint)\n",
    "        if layer:\n",
    "            layers.append(layer)\n",
    "    return layers\n",
    "\n",
    "'''\n",
    "combination = {\"type\": 'historical', 'ensamble': '1', 'time': '00:00', 'stat': 'daily_mean'}\n",
    "combination = {\"type\": 'historical', 'ensamble': '2', 'time': '00:00', 'stat': 'daily_mean'}\n",
    "\n",
    "\n",
    "constraints = [\n",
    "    {\"type\": {'projection'}, 'ensamble': {'1'}, 'time': {'00:00'}, 'stat': {'hourly'}},\n",
    "    {\"type\": {'projection'}, 'ensamble': {'1'}, 'stat': {'daily_mean'}},\n",
    "    {\"type\": {'historical'}, 'time': {'00:00'}, 'stat': {'hourly'}},\n",
    "    {\"type\": {'historical'}, 'stat': {'daily_mean'}}\n",
    "]\n",
    "\n",
    "check_combination(combination, constraints)\n",
    "'''    \n",
    "\n"
   ]
  },
  {
   "cell_type": "code",
   "execution_count": 232,
   "id": "be479794",
   "metadata": {},
   "outputs": [],
   "source": [
    "def estimate_layers(form, selection, constaints):\n",
    "    layers = []\n",
    "    always_valid = get_always_valid_params(form, constraints)\n",
    "    selected_always_valid = {k:v for k,v in selection.items() if k in always_valid}\n",
    "    sub_selection = {k:v for k,v in selection.items() if k not in always_valid}\n",
    "    combinations = compute_combinations(sub_selection)\n",
    "    count = 0\n",
    "    for combination in combinations:\n",
    "            layer = get_possible_layers_for_combination(combination, constaints)\n",
    "            #print(layer)\n",
    "            if layer not in layers:\n",
    "                layers += layer\n",
    "            #count += is_within_constraints(combination, constaints)\n",
    "    #return count * math.prod(map(len, selected_always_valid.values()))\n",
    "    return layers\n",
    "    "
   ]
  },
  {
   "cell_type": "code",
   "execution_count": 233,
   "id": "daaa3567",
   "metadata": {
    "scrolled": true
   },
   "outputs": [
    {
     "data": {
      "text/plain": [
       "11"
      ]
     },
     "execution_count": 233,
     "metadata": {},
     "output_type": "execute_result"
    }
   ],
   "source": [
    "len(estimate_layers(form, selection, constraints))"
   ]
  },
  {
   "cell_type": "code",
   "execution_count": 207,
   "id": "99cad15a",
   "metadata": {},
   "outputs": [
    {
     "name": "stdout",
     "output_type": "stream",
     "text": [
      "{'param': 'T', 'level': '500', 'stat': 'daily_mean', 'time': '12:00'}\n",
      "{'level': {'500'}, 'param': {'Z', 'T'}, 'time': {'12:00', '00:00'}, 'stat': {'hourly'}}\n",
      "removed {'level': {'500'}, 'param': {'Z', 'T'}, 'time': {'12:00', '00:00'}, 'stat': {'hourly'}}\n",
      "{'level': {'500'}, 'param': {'Z', 'T'}, 'stat': {'daily_mean'}}\n",
      "popped time\n",
      "enter\n",
      "{'param': 'T', 'level': '500', 'stat': 'daily_mean'}\n",
      "{'level': {'850'}, 'param': {'T'}, 'time': {'12:00'}, 'stat': {'hourly'}}\n",
      "removed {'level': {'850'}, 'param': {'T'}, 'time': {'12:00'}, 'stat': {'hourly'}}\n",
      "{'level': {'850'}, 'param': {'T'}, 'stat': {'daily_mean'}}\n",
      "removed {'level': {'850'}, 'param': {'T'}, 'stat': {'daily_mean'}}\n",
      "removed {'level': {'500'}, 'param': {'Z', 'T'}, 'stat': {'daily_mean'}}\n"
     ]
    },
    {
     "ename": "AssertionError",
     "evalue": "",
     "output_type": "error",
     "traceback": [
      "\u001b[0;31m---------------------------------------------------------------------------\u001b[0m",
      "\u001b[0;31mAssertionError\u001b[0m                            Traceback (most recent call last)",
      "Cell \u001b[0;32mIn [207], line 27\u001b[0m\n\u001b[1;32m     24\u001b[0m     \u001b[38;5;28;01massert\u001b[39;00m count_layers({\u001b[38;5;124m\"\u001b[39m\u001b[38;5;124mtype\u001b[39m\u001b[38;5;124m\"\u001b[39m: \u001b[38;5;124m'\u001b[39m\u001b[38;5;124mprojection\u001b[39m\u001b[38;5;124m'\u001b[39m, \u001b[38;5;124m'\u001b[39m\u001b[38;5;124mensamble\u001b[39m\u001b[38;5;124m'\u001b[39m: \u001b[38;5;124m'\u001b[39m\u001b[38;5;124m1\u001b[39m\u001b[38;5;124m'\u001b[39m, \u001b[38;5;124m'\u001b[39m\u001b[38;5;124mtime\u001b[39m\u001b[38;5;124m'\u001b[39m: \u001b[38;5;124m'\u001b[39m\u001b[38;5;124m00:00\u001b[39m\u001b[38;5;124m'\u001b[39m, \u001b[38;5;124m'\u001b[39m\u001b[38;5;124mstat\u001b[39m\u001b[38;5;124m'\u001b[39m: \u001b[38;5;124m'\u001b[39m\u001b[38;5;124mdaily_mean\u001b[39m\u001b[38;5;124m'\u001b[39m}, constraints) \u001b[38;5;241m==\u001b[39m \u001b[38;5;241m1\u001b[39m\n\u001b[1;32m     25\u001b[0m     \u001b[38;5;28;01massert\u001b[39;00m count_layers({\u001b[38;5;124m\"\u001b[39m\u001b[38;5;124mtype\u001b[39m\u001b[38;5;124m\"\u001b[39m: \u001b[38;5;124m'\u001b[39m\u001b[38;5;124mprojection\u001b[39m\u001b[38;5;124m'\u001b[39m, \u001b[38;5;124m'\u001b[39m\u001b[38;5;124mensamble\u001b[39m\u001b[38;5;124m'\u001b[39m: \u001b[38;5;124m'\u001b[39m\u001b[38;5;124m1\u001b[39m\u001b[38;5;124m'\u001b[39m, \u001b[38;5;124m'\u001b[39m\u001b[38;5;124mtime\u001b[39m\u001b[38;5;124m'\u001b[39m: \u001b[38;5;124m'\u001b[39m\u001b[38;5;124m00:00\u001b[39m\u001b[38;5;124m'\u001b[39m, \u001b[38;5;124m'\u001b[39m\u001b[38;5;124mstat\u001b[39m\u001b[38;5;124m'\u001b[39m: \u001b[38;5;124m'\u001b[39m\u001b[38;5;124mhourly\u001b[39m\u001b[38;5;124m'\u001b[39m}, constraints) \u001b[38;5;241m==\u001b[39m \u001b[38;5;241m1\u001b[39m\n\u001b[0;32m---> 27\u001b[0m \u001b[43mtest_count_layers\u001b[49m\u001b[43m(\u001b[49m\u001b[43m)\u001b[49m\n",
      "Cell \u001b[0;32mIn [207], line 8\u001b[0m, in \u001b[0;36mtest_count_layers\u001b[0;34m()\u001b[0m\n\u001b[1;32m      1\u001b[0m \u001b[38;5;28;01mdef\u001b[39;00m \u001b[38;5;21mtest_count_layers\u001b[39m():   \n\u001b[1;32m      2\u001b[0m     constraints \u001b[38;5;241m=\u001b[39m [\n\u001b[1;32m      3\u001b[0m         {\u001b[38;5;124m\"\u001b[39m\u001b[38;5;124mlevel\u001b[39m\u001b[38;5;124m\"\u001b[39m: {\u001b[38;5;124m\"\u001b[39m\u001b[38;5;124m500\u001b[39m\u001b[38;5;124m\"\u001b[39m}, \u001b[38;5;124m\"\u001b[39m\u001b[38;5;124mparam\u001b[39m\u001b[38;5;124m\"\u001b[39m: {\u001b[38;5;124m\"\u001b[39m\u001b[38;5;124mZ\u001b[39m\u001b[38;5;124m\"\u001b[39m, \u001b[38;5;124m\"\u001b[39m\u001b[38;5;124mT\u001b[39m\u001b[38;5;124m\"\u001b[39m}, \u001b[38;5;124m\"\u001b[39m\u001b[38;5;124mtime\u001b[39m\u001b[38;5;124m\"\u001b[39m: {\u001b[38;5;124m\"\u001b[39m\u001b[38;5;124m12:00\u001b[39m\u001b[38;5;124m\"\u001b[39m, \u001b[38;5;124m\"\u001b[39m\u001b[38;5;124m00:00\u001b[39m\u001b[38;5;124m\"\u001b[39m}, \u001b[38;5;124m\"\u001b[39m\u001b[38;5;124mstat\u001b[39m\u001b[38;5;124m\"\u001b[39m: {\u001b[38;5;124m\"\u001b[39m\u001b[38;5;124mhourly\u001b[39m\u001b[38;5;124m\"\u001b[39m}},\n\u001b[1;32m      4\u001b[0m         {\u001b[38;5;124m\"\u001b[39m\u001b[38;5;124mlevel\u001b[39m\u001b[38;5;124m\"\u001b[39m: {\u001b[38;5;124m\"\u001b[39m\u001b[38;5;124m850\u001b[39m\u001b[38;5;124m\"\u001b[39m}, \u001b[38;5;124m\"\u001b[39m\u001b[38;5;124mparam\u001b[39m\u001b[38;5;124m\"\u001b[39m: {\u001b[38;5;124m\"\u001b[39m\u001b[38;5;124mT\u001b[39m\u001b[38;5;124m\"\u001b[39m}, \u001b[38;5;124m\"\u001b[39m\u001b[38;5;124mtime\u001b[39m\u001b[38;5;124m\"\u001b[39m: {\u001b[38;5;124m\"\u001b[39m\u001b[38;5;124m12:00\u001b[39m\u001b[38;5;124m\"\u001b[39m}, \u001b[38;5;124m\"\u001b[39m\u001b[38;5;124mstat\u001b[39m\u001b[38;5;124m\"\u001b[39m: {\u001b[38;5;124m\"\u001b[39m\u001b[38;5;124mhourly\u001b[39m\u001b[38;5;124m\"\u001b[39m}},\n\u001b[1;32m      5\u001b[0m         {\u001b[38;5;124m\"\u001b[39m\u001b[38;5;124mlevel\u001b[39m\u001b[38;5;124m\"\u001b[39m: {\u001b[38;5;124m\"\u001b[39m\u001b[38;5;124m500\u001b[39m\u001b[38;5;124m\"\u001b[39m}, \u001b[38;5;124m\"\u001b[39m\u001b[38;5;124mparam\u001b[39m\u001b[38;5;124m\"\u001b[39m: {\u001b[38;5;124m\"\u001b[39m\u001b[38;5;124mZ\u001b[39m\u001b[38;5;124m\"\u001b[39m, \u001b[38;5;124m\"\u001b[39m\u001b[38;5;124mT\u001b[39m\u001b[38;5;124m\"\u001b[39m}, \u001b[38;5;124m\"\u001b[39m\u001b[38;5;124mstat\u001b[39m\u001b[38;5;124m\"\u001b[39m: {\u001b[38;5;124m\"\u001b[39m\u001b[38;5;124mdaily_mean\u001b[39m\u001b[38;5;124m\"\u001b[39m}},\n\u001b[1;32m      6\u001b[0m         {\u001b[38;5;124m\"\u001b[39m\u001b[38;5;124mlevel\u001b[39m\u001b[38;5;124m\"\u001b[39m: {\u001b[38;5;124m\"\u001b[39m\u001b[38;5;124m850\u001b[39m\u001b[38;5;124m\"\u001b[39m}, \u001b[38;5;124m\"\u001b[39m\u001b[38;5;124mparam\u001b[39m\u001b[38;5;124m\"\u001b[39m: {\u001b[38;5;124m\"\u001b[39m\u001b[38;5;124mT\u001b[39m\u001b[38;5;124m\"\u001b[39m}, \u001b[38;5;124m\"\u001b[39m\u001b[38;5;124mstat\u001b[39m\u001b[38;5;124m\"\u001b[39m: {\u001b[38;5;124m\"\u001b[39m\u001b[38;5;124mdaily_mean\u001b[39m\u001b[38;5;124m\"\u001b[39m}},\n\u001b[1;32m      7\u001b[0m     ]\n\u001b[0;32m----> 8\u001b[0m     \u001b[38;5;28;01massert\u001b[39;00m count_layers({\u001b[38;5;124m'\u001b[39m\u001b[38;5;124mparam\u001b[39m\u001b[38;5;124m'\u001b[39m: \u001b[38;5;124m'\u001b[39m\u001b[38;5;124mT\u001b[39m\u001b[38;5;124m'\u001b[39m, \u001b[38;5;124m'\u001b[39m\u001b[38;5;124mlevel\u001b[39m\u001b[38;5;124m'\u001b[39m: \u001b[38;5;124m'\u001b[39m\u001b[38;5;124m500\u001b[39m\u001b[38;5;124m'\u001b[39m, \u001b[38;5;124m'\u001b[39m\u001b[38;5;124mstat\u001b[39m\u001b[38;5;124m'\u001b[39m: \u001b[38;5;124m'\u001b[39m\u001b[38;5;124mdaily_mean\u001b[39m\u001b[38;5;124m'\u001b[39m, \u001b[38;5;124m'\u001b[39m\u001b[38;5;124mtime\u001b[39m\u001b[38;5;124m'\u001b[39m: \u001b[38;5;124m'\u001b[39m\u001b[38;5;124m12:00\u001b[39m\u001b[38;5;124m'\u001b[39m}, constraints) \u001b[38;5;241m==\u001b[39m \u001b[38;5;241m1\u001b[39m\n\u001b[1;32m      9\u001b[0m     \u001b[38;5;28;01massert\u001b[39;00m count_layers({\u001b[38;5;124m'\u001b[39m\u001b[38;5;124mparam\u001b[39m\u001b[38;5;124m'\u001b[39m: \u001b[38;5;124m'\u001b[39m\u001b[38;5;124mT\u001b[39m\u001b[38;5;124m'\u001b[39m, \u001b[38;5;124m'\u001b[39m\u001b[38;5;124mlevel\u001b[39m\u001b[38;5;124m'\u001b[39m: \u001b[38;5;124m'\u001b[39m\u001b[38;5;124m500\u001b[39m\u001b[38;5;124m'\u001b[39m, \u001b[38;5;124m'\u001b[39m\u001b[38;5;124mstat\u001b[39m\u001b[38;5;124m'\u001b[39m: \u001b[38;5;124m'\u001b[39m\u001b[38;5;124mhourly\u001b[39m\u001b[38;5;124m'\u001b[39m, \u001b[38;5;124m'\u001b[39m\u001b[38;5;124mtime\u001b[39m\u001b[38;5;124m'\u001b[39m: \u001b[38;5;124m'\u001b[39m\u001b[38;5;124m12:00\u001b[39m\u001b[38;5;124m'\u001b[39m}, constraints) \u001b[38;5;241m==\u001b[39m \u001b[38;5;241m1\u001b[39m\n\u001b[1;32m     10\u001b[0m     \u001b[38;5;28;01massert\u001b[39;00m count_layers({\u001b[38;5;124m'\u001b[39m\u001b[38;5;124mparam\u001b[39m\u001b[38;5;124m'\u001b[39m: \u001b[38;5;124m'\u001b[39m\u001b[38;5;124mT\u001b[39m\u001b[38;5;124m'\u001b[39m, \u001b[38;5;124m'\u001b[39m\u001b[38;5;124mlevel\u001b[39m\u001b[38;5;124m'\u001b[39m: \u001b[38;5;124m'\u001b[39m\u001b[38;5;124m850\u001b[39m\u001b[38;5;124m'\u001b[39m, \u001b[38;5;124m'\u001b[39m\u001b[38;5;124mstat\u001b[39m\u001b[38;5;124m'\u001b[39m: \u001b[38;5;124m'\u001b[39m\u001b[38;5;124mhourly\u001b[39m\u001b[38;5;124m'\u001b[39m, \u001b[38;5;124m'\u001b[39m\u001b[38;5;124mtime\u001b[39m\u001b[38;5;124m'\u001b[39m: \u001b[38;5;124m'\u001b[39m\u001b[38;5;124m00:00\u001b[39m\u001b[38;5;124m'\u001b[39m}, constraints) \u001b[38;5;241m==\u001b[39m \u001b[38;5;241m0\u001b[39m\n",
      "\u001b[0;31mAssertionError\u001b[0m: "
     ]
    }
   ],
   "source": [
    "def test_count_layers():   \n",
    "    constraints = [\n",
    "        {\"level\": {\"500\"}, \"param\": {\"Z\", \"T\"}, \"time\": {\"12:00\", \"00:00\"}, \"stat\": {\"hourly\"}},\n",
    "        {\"level\": {\"850\"}, \"param\": {\"T\"}, \"time\": {\"12:00\"}, \"stat\": {\"hourly\"}},\n",
    "        {\"level\": {\"500\"}, \"param\": {\"Z\", \"T\"}, \"stat\": {\"daily_mean\"}},\n",
    "        {\"level\": {\"850\"}, \"param\": {\"T\"}, \"stat\": {\"daily_mean\"}},\n",
    "    ]\n",
    "    assert count_layers({'param': 'T', 'level': '500', 'stat': 'daily_mean', 'time': '12:00'}, constraints) == 1\n",
    "    assert count_layers({'param': 'T', 'level': '500', 'stat': 'hourly', 'time': '12:00'}, constraints) == 1\n",
    "    assert count_layers({'param': 'T', 'level': '850', 'stat': 'hourly', 'time': '00:00'}, constraints) == 0\n",
    "    assert count_layers({'param': 'Z', 'level': '850', 'stat': 'daily_mean', 'time': '12:00'}, constraints) == 0\n",
    "    assert count_layers({'param': 'Z', 'level': '850', 'stat': 'daily_mean', 'time': '00:00'}, constraints) == 0\n",
    "    assert count_layers({'param': 'Z', 'level': '850', 'stat': 'hourly', 'time': '12:00'}, constraints) == 0\n",
    "    assert count_layers({'param': 'Z', 'level': '850', 'stat': 'hourly', 'time': '00:00'}, constraints) == 0\n",
    "    \n",
    "    constraints = [\n",
    "        {\"type\": {'projection'}, 'ensamble': {'1'}, 'time': {'00:00'}, 'stat': {'hourly'}},\n",
    "        {\"type\": {'projection'}, 'ensamble': {'1'}, 'stat': {'daily_mean'}},\n",
    "        {\"type\": {'historical'}, 'time': {'00:00'}, 'stat': {'hourly'}},\n",
    "        {\"type\": {'historical'}, 'stat': {'daily_mean'}}\n",
    "    ]\n",
    "    \n",
    "    assert count_layers({\"type\": 'historical', 'ensamble': '1', 'time': '00:00', 'stat': 'daily_mean'}, constraints) == 2\n",
    "    assert count_layers({\"type\": 'projection', 'ensamble': '1', 'time': '00:00', 'stat': 'daily_mean'}, constraints) == 1\n",
    "    assert count_layers({\"type\": 'projection', 'ensamble': '1', 'time': '00:00', 'stat': 'hourly'}, constraints) == 1\n",
    "    \n",
    "test_count_layers()"
   ]
  },
  {
   "cell_type": "code",
   "execution_count": 186,
   "id": "107b8ed4",
   "metadata": {},
   "outputs": [],
   "source": [
    "s = [{\"ciao\":\"mare\"}]"
   ]
  },
  {
   "cell_type": "code",
   "execution_count": 187,
   "id": "bc8639f8",
   "metadata": {},
   "outputs": [
    {
     "data": {
      "text/plain": [
       "[{'ciao': 'mare'}]"
      ]
     },
     "execution_count": 187,
     "metadata": {},
     "output_type": "execute_result"
    }
   ],
   "source": [
    "if {\"ciao\":\"mare\"} not in s:\n",
    "    s.append({\"ciao\":\"mare\"})\n",
    "s"
   ]
  },
  {
   "cell_type": "code",
   "execution_count": 225,
   "id": "fe9224d1",
   "metadata": {},
   "outputs": [
    {
     "data": {
      "text/plain": [
       "[1, 2, 3, 4, 5]"
      ]
     },
     "execution_count": 225,
     "metadata": {},
     "output_type": "execute_result"
    }
   ],
   "source": [
    "l = [1,2,3]\n",
    "b = [4,5]\n",
    "l+b"
   ]
  },
  {
   "cell_type": "code",
   "execution_count": 224,
   "id": "888271af",
   "metadata": {},
   "outputs": [
    {
     "data": {
      "text/plain": [
       "[1, 2, 3, [4, 5]]"
      ]
     },
     "execution_count": 224,
     "metadata": {},
     "output_type": "execute_result"
    }
   ],
   "source": [
    "l."
   ]
  },
  {
   "cell_type": "code",
   "execution_count": null,
   "id": "a5eae1b0",
   "metadata": {},
   "outputs": [],
   "source": []
  }
 ],
 "metadata": {
  "kernelspec": {
   "display_name": "Python 3 (ipykernel)",
   "language": "python",
   "name": "python3"
  },
  "language_info": {
   "codemirror_mode": {
    "name": "ipython",
    "version": 3
   },
   "file_extension": ".py",
   "mimetype": "text/x-python",
   "name": "python",
   "nbconvert_exporter": "python",
   "pygments_lexer": "ipython3",
   "version": "3.10.6"
  }
 },
 "nbformat": 4,
 "nbformat_minor": 5
}
