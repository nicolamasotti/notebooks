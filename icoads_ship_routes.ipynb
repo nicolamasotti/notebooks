{
 "cells": [
  {
   "cell_type": "code",
   "execution_count": null,
   "metadata": {},
   "outputs": [],
   "source": [
    "%matplotlib inline"
   ]
  },
  {
   "cell_type": "code",
   "execution_count": null,
   "metadata": {},
   "outputs": [],
   "source": [
    "import xarray as xr\n",
    "import numpy as np\n",
    "import pandas as pd\n",
    "import matplotlib as mpl\n",
    "import matplotlib.pyplot as plt\n",
    "import cartopy\n",
    "import cartopy.crs as ccrs\n",
    "from cycler import cycler"
   ]
  },
  {
   "cell_type": "code",
   "execution_count": null,
   "metadata": {},
   "outputs": [],
   "source": [
    "INPUT_FILE = 'ships_direction_and_speed_icoads_201101_201111.txt'\n",
    "INPUT_PATH = 'in/'\n",
    "INPUT = INPUT_PATH + INPUT_FILE\n",
    "dtype = [np.int32] + [(np.str_, 8)] + [(np.str_, 6)] + [np.float32]*3\n",
    "usecols = [0,3,4,5,6,7]\n",
    "names = ['timeseries_index', 'date', 'time', 'lat', 'lon', 'obs']\n",
    "skip_header = 1"
   ]
  },
  {
   "cell_type": "code",
   "execution_count": null,
   "metadata": {},
   "outputs": [],
   "source": [
    "raw_data = pd.DataFrame(np.genfromtxt(INPUT, usecols=usecols, dtype=dtype, names=names, skip_header=skip_header))"
   ]
  },
  {
   "cell_type": "code",
   "execution_count": null,
   "metadata": {},
   "outputs": [],
   "source": [
    "def create_timestamp(data):\n",
    "    date = data['date']\n",
    "    time = ('000000' + data['time']).str[-6:]\n",
    "    timestamp = date + time\n",
    "    data['timestamp'] = pd.to_datetime(timestamp, format='%Y%m%d%H%M%S')\n",
    "    data.drop(['date','time'], axis=1, inplace=True)\n",
    "    \n",
    "    return data"
   ]
  },
  {
   "cell_type": "code",
   "execution_count": null,
   "metadata": {},
   "outputs": [],
   "source": [
    "def df_dot_product(u,v):   \n",
    "    return u*u.shift(-1) + v*v.shift(-1)"
   ]
  },
  {
   "cell_type": "code",
   "execution_count": null,
   "metadata": {},
   "outputs": [],
   "source": [
    "def compute_deltas(data):\n",
    "    # compute deltas\n",
    "    data['delta_lat'] = data['lat'].shift(-1) - data['lat']\n",
    "    data['delta_lon'] = data['lon'].shift(-1) - data['lon']\n",
    "    \n",
    "    # normalize deltas\n",
    "    d_lat = data.delta_lat\n",
    "    d_lon = data.delta_lon\n",
    "    data['delta_lat_norm'] = d_lat / np.sqrt(d_lat**2 + d_lon**2)\n",
    "    data['delta_lon_norm'] = d_lon / np.sqrt(d_lat**2 + d_lon**2)\n",
    "    \n",
    "    # fast compute angle between two segments\n",
    "    d_lat_norm = data.delta_lat_norm\n",
    "    d_lon_norm = data.delta_lon_norm\n",
    "    data['angle'] = np.degrees(np.arccos(np.clip(df_dot_product(d_lat_norm, d_lon_norm), -1.0, 1.0)))\n",
    "    \n",
    "    return data"
   ]
  },
  {
   "cell_type": "code",
   "execution_count": null,
   "metadata": {},
   "outputs": [],
   "source": [
    "atlantic = raw_data[(raw_data['lon'] <= 0) & (raw_data['lon'] >= -90)]\n",
    "atlantic = create_timestamp(atlantic)\n",
    "atlantic = atlantic.groupby(['timeseries_index','timestamp'])[['lon','lat']].mean()\n",
    "atlantic = compute_deltas(atlantic)\n",
    "atlantic = atlantic.reset_index()\n",
    "atlantic[:10]"
   ]
  },
  {
   "cell_type": "code",
   "execution_count": null,
   "metadata": {},
   "outputs": [],
   "source": [
    "def get_tracks(data, thresh):\n",
    "    timestamps = data['timestamp']\n",
    "    deltas = timestamps.shift(-1) - timestamps\n",
    "    mask = deltas > thresh\n",
    "    mask = np.absolute(mask.shift(+1) + mask)\n",
    "    data['track'] = mask.cumsum()   \n",
    "    return data"
   ]
  },
  {
   "cell_type": "code",
   "execution_count": null,
   "metadata": {},
   "outputs": [],
   "source": [
    "def get_subtracks(data, thresh):  \n",
    "    mask = ((np.absolute(data['delta_lat']) > thresh) | (np.absolute(data['delta_lon']) > thresh))\n",
    "    mask = np.absolute(mask.shift(+1) + mask)\n",
    "    data['subtrack'] = mask.cumsum()\n",
    "    return data"
   ]
  },
  {
   "cell_type": "code",
   "execution_count": null,
   "metadata": {},
   "outputs": [],
   "source": [
    "def track_span(x):\n",
    "    return np.sqrt((x['lon'].max() - x['lon'].min())**2 + (x['lat'].max() - x['lat'].min())**2)"
   ]
  },
  {
   "cell_type": "code",
   "execution_count": null,
   "metadata": {},
   "outputs": [],
   "source": [
    "def track_density(x):\n",
    "    return len(x)/(np.sqrt((x['lon'].max() - x['lon'].min())**2 + (x['lat'].max() - x['lat'].min())**2))"
   ]
  },
  {
   "cell_type": "code",
   "execution_count": null,
   "metadata": {},
   "outputs": [],
   "source": [
    "def drop_short_tracks(data, thresh):\n",
    "    return data.groupby('track').filter(lambda x: x['timestamp'].count() > thresh)"
   ]
  },
  {
   "cell_type": "code",
   "execution_count": null,
   "metadata": {},
   "outputs": [],
   "source": [
    "def drop_vertical_tracks(data, thresh):\n",
    "    return data.groupby('track').filter(lambda x: (x['lon'].max() - x['lon'].min()) > thresh)"
   ]
  },
  {
   "cell_type": "code",
   "execution_count": null,
   "metadata": {},
   "outputs": [],
   "source": [
    "def drop_sparse_tracks(data, thresh):\n",
    "    return data.groupby('track').filter(lambda x: track_density(x) > thresh)"
   ]
  },
  {
   "cell_type": "code",
   "execution_count": null,
   "metadata": {},
   "outputs": [],
   "source": [
    "def drop_outsiders(data, thresh):\n",
    "    mask = ~((np.absolute(data['delta_lat']) > thresh) | (np.absolute(data['delta_lon']) > thresh))\n",
    "    data = data[mask]\n",
    "    return data"
   ]
  },
  {
   "cell_type": "code",
   "execution_count": null,
   "metadata": {},
   "outputs": [],
   "source": [
    "def create_canvas():\n",
    "    fig = plt.figure(figsize=[60,20])\n",
    "    ax = plt.axes(projection=ccrs.PlateCarree())\n",
    "    ax.add_feature(\n",
    "        cartopy.feature.LAND,\n",
    "        zorder=100, \n",
    "        edgecolor=[0.2,0.2,0.2], \n",
    "        facecolor=[0.5,0.5,0.5])\n",
    "    return fig,ax"
   ]
  },
  {
   "cell_type": "code",
   "execution_count": null,
   "metadata": {},
   "outputs": [],
   "source": [
    "def filt(data):\n",
    "    _data = get_tracks(data, np.timedelta64(3,'D'))\n",
    "    _data = get_subtracks(data, 2)\n",
    "    _data = drop_short_tracks(data, 1000)\n",
    "    _data = drop_vertical_tracks(data, 60)\n",
    "    _data = drop_sparse_tracks(data, 20)\n",
    "    return _data"
   ]
  },
  {
   "cell_type": "code",
   "execution_count": null,
   "metadata": {},
   "outputs": [],
   "source": [
    "# plot raw data \n",
    "fig, ax = create_canvas()\n",
    "data = atlantic\n",
    "data.plot('lon','lat', ax=ax)\n",
    "ax.set_global()"
   ]
  },
  {
   "cell_type": "code",
   "execution_count": null,
   "metadata": {},
   "outputs": [],
   "source": [
    "# plot filtered data\n",
    "fig, ax = create_canvas()\n",
    "_data = filt(atlantic)\n",
    "_data.groupby(['track','subtrack']).plot('lon','lat', ax=ax)\n",
    "ax.set_global()"
   ]
  },
  {
   "cell_type": "markdown",
   "metadata": {},
   "source": [
    "#cmap='jet'\n",
    "#cm = plt.get_cmap(cmap)\n",
    "#colors = cm(np.arange(0, atlantic['track'].max()))\n",
    "#plt.rc('axes', prop_cycle=(cycler('color', colors)))\n",
    "#ax.set_prop_cycle(cycler('color', colors))\n",
    "#grouped = atlantic.groupby(['timeseries_index','timestamp']).mean()\n",
    "#for track, color in zip(tracks, colors):\n",
    "    #plt.plot(track['lon'], track['lat'], color=color, marker='o')"
   ]
  }
 ],
 "metadata": {
  "kernelspec": {
   "display_name": "Python 3",
   "language": "python",
   "name": "python3"
  },
  "language_info": {
   "codemirror_mode": {
    "name": "ipython",
    "version": 3
   },
   "file_extension": ".py",
   "mimetype": "text/x-python",
   "name": "python",
   "nbconvert_exporter": "python",
   "pygments_lexer": "ipython3",
   "version": "3.6.0"
  }
 },
 "nbformat": 4,
 "nbformat_minor": 1
}
