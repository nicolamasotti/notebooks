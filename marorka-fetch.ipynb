{
 "cells": [
  {
   "cell_type": "code",
   "execution_count": null,
   "metadata": {},
   "outputs": [],
   "source": [
    "import requests\n",
    "import xml.dom.minidom\n",
    "import numpy as np\n",
    "import pandas as pd"
   ]
  },
  {
   "cell_type": "code",
   "execution_count": null,
   "metadata": {},
   "outputs": [],
   "source": [
    "user = r\"\"\n",
    "psw = r\"\""
   ]
  },
  {
   "cell_type": "code",
   "execution_count": null,
   "metadata": {},
   "outputs": [],
   "source": [
    "#function = 'Voyages'\n",
    "function = 'ShipPivots'\n",
    "start_date = '1990-01'\n",
    "end_date = '2017-11'\n",
    "output_dir = 'out/Laurin/ShipPivots/All'\n",
    "dates = pd.Series(np.arange(start_date, end_date, np.timedelta64(1, 'W'), dtype='datetime64[W]'))\n",
    "dates = dates.values.astype('datetime64[D]')\n",
    "\n",
    "urls = []\n",
    "\n",
    "base_url = \"https://online.marorka.com/Odata/v1/ODataService.svc/\" + function + \"?\\\n",
    "$filter=DateTime gt DateTime'{}'\\\n",
    " and DateTime lt DateTime'{}'\\\n",
    "&$orderby=DateTime desc\"\n",
    "\n",
    "#$filter=CompanyName eq 'Laurin Maritime'\\\n",
    "\n",
    "for i in range(len(dates)-1):\n",
    "    urls.append(base_url.format(dates[i].astype(str), dates[i+1].astype(str)))\n",
    "    \n",
    "urls[:3]"
   ]
  },
  {
   "cell_type": "code",
   "execution_count": null,
   "metadata": {},
   "outputs": [],
   "source": [
    "output_dir"
   ]
  },
  {
   "cell_type": "code",
   "execution_count": null,
   "metadata": {},
   "outputs": [],
   "source": [
    "# Login and fetch data\n",
    "session = requests.Session()\n",
    "session.auth = (user, psw)\n",
    "\n",
    "for i, url in enumerate(urls):\n",
    "    response = session.get(url)\n",
    "    # Parse response and write file\n",
    "    xmlData = response.content #  this is bytes\n",
    "    string = xml.dom.minidom.parseString(xmlData) #  this is a string\n",
    "    filename = output_dir + \"/data_{}.xml\".format(dates[i])\n",
    "    with open(filename, \"w\") as file:\n",
    "        file.write(string.toprettyxml()) #  this is formatted as a typical xml\n",
    "\n",
    "#$top=100000"
   ]
  }
 ],
 "metadata": {
  "kernelspec": {
   "display_name": "Python 3",
   "language": "python",
   "name": "python3"
  },
  "language_info": {
   "codemirror_mode": {
    "name": "ipython",
    "version": 3
   },
   "file_extension": ".py",
   "mimetype": "text/x-python",
   "name": "python",
   "nbconvert_exporter": "python",
   "pygments_lexer": "ipython3",
   "version": "3.6.0"
  }
 },
 "nbformat": 4,
 "nbformat_minor": 2
}
